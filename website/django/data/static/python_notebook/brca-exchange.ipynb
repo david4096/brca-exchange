{
 "cells": [
  {
   "cell_type": "markdown",
   "metadata": {},
   "source": [
    "### Initialize Client\n",
    "Using the GA4GH client library, to ensure that the request is being formulated in acordance with the GA4GH requirements"
   ]
  },
  {
   "cell_type": "code",
   "execution_count": 1,
   "metadata": {
    "collapsed": false
   },
   "outputs": [],
   "source": [
    "from ga4gh_client import client\n",
    "c = client.HttpClient(\"http://127.0.0.1:8000/data/ga4gh/v0.6.0a7/\")"
   ]
  },
  {
   "cell_type": "markdown",
   "metadata": {},
   "source": [
    "### Obtain available datasets\n",
    "Datasets is the highest data level, and the info returned can be use to recursively access the lowest data level. That is, each individual variant."
   ]
  },
  {
   "cell_type": "code",
   "execution_count": 3,
   "metadata": {
    "collapsed": false
   },
   "outputs": [
    {
     "name": "stdout",
     "output_type": "stream",
     "text": [
      "id: \"brca\"\n",
      "name: \"brca-exchange-variants\"\n",
      "description: \"Variants observed in brca-exchange project\"\n",
      "\n"
     ]
    }
   ],
   "source": [
    "dataset = c.search_datasets().next()\n",
    "print dataset"
   ]
  },
  {
   "cell_type": "markdown",
   "metadata": {},
   "source": [
    "### Data set by id method\n",
    "Observe that we can obtain a given dataset, just by knowing its id. Observe that on the previous instance we obtained all the available sets. Currently only one is supported."
   ]
  },
  {
   "cell_type": "code",
   "execution_count": 4,
   "metadata": {
    "collapsed": false
   },
   "outputs": [
    {
     "name": "stdout",
     "output_type": "stream",
     "text": [
      "id: \"brca\"\n",
      "name: \"brca-exchange-variants\"\n",
      "description: \"Variants observed in brca-exchange project\"\n",
      "\n"
     ]
    }
   ],
   "source": [
    "individual_dataset = c.get_dataset(dataset_id=\"brca\")\n",
    "print individual_dataset"
   ]
  },
  {
   "cell_type": "markdown",
   "metadata": {},
   "source": [
    "### Obtaining Variant Sets\n",
    "Note that by querying datasets, we obtain the variants id so that we can \n",
    "make a query to the variant sets and become more specific with which set we want our variants to be build and obtained."
   ]
  },
  {
   "cell_type": "code",
   "execution_count": 5,
   "metadata": {
    "collapsed": false
   },
   "outputs": [
    {
     "name": "stdout",
     "output_type": "stream",
     "text": [
      "Variant Set Id: brca-hg36\n",
      "\tName: brca-exchange-variants-hg36\n",
      "\tReference Set Id: Genomic-Coordinate-hg36\n",
      "\tData Set Id: brca\n",
      "\n",
      "Variant Set Id: brca-hg37\n",
      "\tName: brca-exchange-variants-hg37\n",
      "\tReference Set Id: Genomic-Coordinate-hg37\n",
      "\tData Set Id: brca\n",
      "\n",
      "Variant Set Id: brca-hg38\n",
      "\tName: brca-exchange-variants-hg38\n",
      "\tReference Set Id: Genomic-Coordinate-hg38\n",
      "\tData Set Id: brca\n",
      "\n"
     ]
    }
   ],
   "source": [
    "# `dataset.id` obtained in search datasets call # \n",
    "variant_sets = [i for i in c.search_variant_sets(dataset_id=dataset.id)]\n",
    "Sets = {}\n",
    "for variantSets in variant_sets:\n",
    "    Sets[variantSets.id] = {\"Name\" : variantSets.name, \"Reference Set Id\" : variantSets.reference_set_id,\n",
    "                            \"Data Set Id\" : variantSets.dataset_id}\n",
    "    print\"Variant Set Id: {}\\n\\tName: {}\\n\\tReference Set Id: {}\\n\\tData Set Id: {}\\n\".format(variantSets.id,\n",
    "        variantSets.name, variantSets.reference_set_id, variantSets.dataset_id)"
   ]
  },
  {
   "cell_type": "markdown",
   "metadata": {},
   "source": [
    "##### Note, only selected fields where shown for illustration purposes. Because the independent variantset search will provide other informational parameters, stored as metadata, each with a individual description."
   ]
  },
  {
   "cell_type": "markdown",
   "metadata": {},
   "source": [
    "### Get variant set by id method\n",
    "We can also call a specific set of variants by knowing its id. Currently the distinction of such is derrived from the supported genomic coordinates, so only 3 sets are available. GA4GH supports coordinate hg37, so we will use such to demonstrate the get variantset function "
   ]
  },
  {
   "cell_type": "code",
   "execution_count": 6,
   "metadata": {
    "collapsed": false
   },
   "outputs": [
    {
     "name": "stdout",
     "output_type": "stream",
     "text": [
      "Variant Id: brca-hg37\n",
      "Name: brca-exchange-variants-hg37\n",
      "Dataset Id: brca\n",
      "Reference Set Id: Genomic-Coordinate-hg37\n",
      "\n",
      "Metadata Field: id ;  Value: - ;  Type: AutoField\n",
      "Metadata Field: Variant_in_ENIGMA ;  Value: - ;  Type: BooleanField\n",
      "Metadata Field: Variant_in_ClinVar ;  Value: - ;  Type: BooleanField\n",
      "Metadata Field: Variant_in_1000_Genomes ;  Value: - ;  Type: BooleanField\n",
      "Metadata Field: Variant_in_ExAC ;  Value: - ;  Type: BooleanField\n",
      "Metadata Field: Variant_in_LOVD ;  Value: - ;  Type: BooleanField\n",
      "Metadata Field: Variant_in_BIC ;  Value: - ;  Type: BooleanField\n",
      "Metadata Field: Variant_in_ESP ;  Value: - ;  Type: BooleanField\n",
      "Metadata Field: Variant_in_exLOVD ;  Value: - ;  Type: BooleanField\n",
      "Metadata Field: Source ;  Value: - ;  Type: TextField\n",
      "Metadata Field: URL_ENIGMA ;  Value: - ;  Type: TextField\n",
      "Metadata Field: Condition_ID_type_ENIGMA ;  Value: - ;  Type: TextField\n",
      "Metadata Field: Condition_ID_value_ENIGMA ;  Value: - ;  Type: TextField\n",
      "Metadata Field: Condition_category_ENIGMA ;  Value: - ;  Type: TextField\n",
      "Metadata Field: Clinical_significance_ENIGMA ;  Value: - ;  Type: TextField\n",
      "Metadata Field: Date_last_evaluated_ENIGMA ;  Value: - ;  Type: TextField\n",
      "Metadata Field: Assertion_method_ENIGMA ;  Value: - ;  Type: TextField\n",
      "Metadata Field: Assertion_method_citation_ENIGMA ;  Value: - ;  Type: TextField\n",
      "Metadata Field: Clinical_significance_citations_ENIGMA ;  Value: - ;  Type: TextField\n",
      "Metadata Field: Comment_on_clinical_significance_ENIGMA ;  Value: - ;  Type: TextField\n",
      "Metadata Field: Collection_method_ENIGMA ;  Value: - ;  Type: TextField\n",
      "Metadata Field: Allele_origin_ENIGMA ;  Value: - ;  Type: TextField\n",
      "Metadata Field: ClinVarAccession_ENIGMA ;  Value: - ;  Type: TextField\n",
      "Metadata Field: Clinical_Significance_ClinVar ;  Value: - ;  Type: TextField\n",
      "Metadata Field: Date_Last_Updated_ClinVar ;  Value: - ;  Type: TextField\n",
      "Metadata Field: Submitter_ClinVar ;  Value: - ;  Type: TextField\n",
      "Metadata Field: SCV_ClinVar ;  Value: - ;  Type: TextField\n",
      "Metadata Field: Allele_Origin_ClinVar ;  Value: - ;  Type: TextField\n",
      "Metadata Field: Method_ClinVar ;  Value: - ;  Type: TextField\n",
      "Metadata Field: Functional_analysis_result_LOVD ;  Value: - ;  Type: TextField\n",
      "Metadata Field: Functional_analysis_technique_LOVD ;  Value: - ;  Type: TextField\n",
      "Metadata Field: Variant_frequency_LOVD ;  Value: - ;  Type: TextField\n",
      "Metadata Field: Variant_haplotype_LOVD ;  Value: - ;  Type: TextField\n",
      "Metadata Field: Minor_allele_frequency_ESP ;  Value: - ;  Type: TextField\n",
      "Metadata Field: EUR_Allele_frequency_1000_Genomes ;  Value: - ;  Type: TextField\n",
      "Metadata Field: AFR_Allele_frequency_1000_Genomes ;  Value: - ;  Type: TextField\n",
      "Metadata Field: AMR_Allele_frequency_1000_Genomes ;  Value: - ;  Type: TextField\n",
      "Metadata Field: EAS_Allele_frequency_1000_Genomes ;  Value: - ;  Type: TextField\n",
      "Metadata Field: Allele_frequency_1000_Genomes ;  Value: - ;  Type: TextField\n",
      "Metadata Field: SAS_Allele_frequency_1000_Genomes ;  Value: - ;  Type: TextField\n",
      "Metadata Field: Allele_frequency_ExAC ;  Value: - ;  Type: TextField\n",
      "Metadata Field: Patient_nationality_BIC ;  Value: - ;  Type: TextField\n",
      "Metadata Field: Clinical_importance_BIC ;  Value: - ;  Type: TextField\n",
      "Metadata Field: Clinical_classification_BIC ;  Value: - ;  Type: TextField\n",
      "Metadata Field: Literature_citation_BIC ;  Value: - ;  Type: TextField\n",
      "Metadata Field: Number_of_family_member_carrying_mutation_BIC ;  Value: - ;  Type: TextField\n",
      "Metadata Field: Germline_or_Somatic_BIC ;  Value: - ;  Type: TextField\n",
      "Metadata Field: Ethnicity_BIC ;  Value: - ;  Type: TextField\n",
      "Metadata Field: Mutation_type_BIC ;  Value: - ;  Type: TextField\n",
      "Metadata Field: IARC_class_exLOVD ;  Value: - ;  Type: TextField\n",
      "Metadata Field: Sum_family_LR_exLOVD ;  Value: - ;  Type: TextField\n",
      "Metadata Field: Combined_prior_probablility_exLOVD ;  Value: - ;  Type: TextField\n",
      "Metadata Field: Literature_source_exLOVD ;  Value: - ;  Type: TextField\n",
      "Metadata Field: Co_occurrence_LR_exLOVD ;  Value: - ;  Type: TextField\n",
      "Metadata Field: Posterior_probability_exLOVD ;  Value: - ;  Type: TextField\n",
      "Metadata Field: Missense_analysis_prior_probability_exLOVD ;  Value: - ;  Type: TextField\n",
      "Metadata Field: Segregation_LR_exLOVD ;  Value: - ;  Type: TextField\n",
      "Metadata Field: Gene_Symbol ;  Value: - ;  Type: TextField\n",
      "Metadata Field: Reference_Sequence ;  Value: - ;  Type: TextField\n",
      "Metadata Field: HGVS_cDNA ;  Value: - ;  Type: TextField\n",
      "Metadata Field: BIC_Nomenclature ;  Value: - ;  Type: TextField\n",
      "Metadata Field: HGVS_Protein ;  Value: - ;  Type: TextField\n",
      "Metadata Field: HGVS_RNA ;  Value: - ;  Type: TextField\n",
      "Metadata Field: Protein_Change ;  Value: - ;  Type: TextField\n",
      "Metadata Field: Allele_Frequency ;  Value: - ;  Type: TextField\n",
      "Metadata Field: Max_Allele_Frequency ;  Value: - ;  Type: TextField\n",
      "Metadata Field: Genomic_Coordinate_hg38 ;  Value: - ;  Type: TextField\n",
      "Metadata Field: Hg38_Start ;  Value: - ;  Type: BigIntegerField\n",
      "Metadata Field: Hg38_End ;  Value: - ;  Type: BigIntegerField\n",
      "Metadata Field: Hg37_Start ;  Value: - ;  Type: BigIntegerField\n",
      "Metadata Field: Hg37_End ;  Value: - ;  Type: BigIntegerField\n",
      "Metadata Field: Hg36_Start ;  Value: - ;  Type: BigIntegerField\n",
      "Metadata Field: Hg36_End ;  Value: - ;  Type: BigIntegerField\n",
      "Metadata Field: Genomic_Coordinate_hg37 ;  Value: - ;  Type: TextField\n",
      "Metadata Field: Genomic_Coordinate_hg36 ;  Value: - ;  Type: TextField\n",
      "Metadata Field: Source_URL ;  Value: - ;  Type: TextField\n",
      "Metadata Field: Discordant ;  Value: - ;  Type: TextField\n",
      "Metadata Field: Synonyms ;  Value: - ;  Type: TextField\n",
      "Metadata Field: Pathogenicity_expert ;  Value: - ;  Type: TextField\n",
      "Metadata Field: Pathogenicity_all ;  Value: - ;  Type: TextField\n",
      "Metadata Field: Chr ;  Value: - ;  Type: TextField\n",
      "Metadata Field: Pos ;  Value: - ;  Type: TextField\n",
      "Metadata Field: Ref ;  Value: - ;  Type: TextField\n",
      "Metadata Field: Alt ;  Value: - ;  Type: TextField\n",
      "Metadata Field: Polyphen_Prediction ;  Value: - ;  Type: TextField\n",
      "Metadata Field: Polyphen_Score ;  Value: - ;  Type: TextField\n",
      "Metadata Field: Sift_Score ;  Value: - ;  Type: TextField\n",
      "Metadata Field: Sift_Prediction ;  Value: - ;  Type: TextField\n",
      "Metadata Field: Data_Release ;  Value: - ;  Type: ForeignKey\n",
      "Metadata Field: Change_Type ;  Value: - ;  Type: ForeignKey\n"
     ]
    }
   ],
   "source": [
    "Varset = c.get_variant_set(variant_set_id=\"brca-hg37\")\n",
    "print \"Variant Id: {}\\nName: {}\\nDataset Id: {}\\nReference Set Id: {}\\n\".format(Varset.id, Varset.name, Varset.dataset_id, Varset.reference_set_id)\n",
    "for i in Varset.metadata:\n",
    "    print \"Metadata Field: {} ;  Value: {} ;  Type: {}\".format(i.key, i.value, i.type)"
   ]
  },
  {
   "cell_type": "markdown",
   "metadata": {},
   "source": [
    "### Searching variants\n",
    "Knowing some variant set id obtained in the previous call and the reference name, we can make a taylorized search for variants and obtain the ones which comply with our request.\n"
   ]
  },
  {
   "cell_type": "code",
   "execution_count": 7,
   "metadata": {
    "collapsed": false
   },
   "outputs": [
    {
     "name": "stdout",
     "output_type": "stream",
     "text": [
      "Variant Id: hg37-10795,\tVariant Set Id: brca-hg37,\tReference Name: 17\n",
      "\tVariant Start: 41246798,\tVariant End: 41246798\n",
      "\tReference Bases: C,\tAlternate Bases: [u'T'],\t\n",
      "Variant Id: hg37-10796,\tVariant Set Id: brca-hg37,\tReference Name: 17\n",
      "\tVariant Start: 41246801,\tVariant End: 41246803\n",
      "\tReference Bases: AGT,\tAlternate Bases: [u'A'],\t\n",
      "Variant Id: hg37-10797,\tVariant Set Id: brca-hg37,\tReference Name: 17\n",
      "\tVariant Start: 41246803,\tVariant End: 41246803\n",
      "\tReference Bases: T,\tAlternate Bases: [u'A'],\t\n",
      "Variant Id: hg37-10798,\tVariant Set Id: brca-hg37,\tReference Name: 17\n",
      "\tVariant Start: 41246804,\tVariant End: 41246804\n",
      "\tReference Bases: G,\tAlternate Bases: [u'C'],\t\n",
      "Variant Id: hg37-10800,\tVariant Set Id: brca-hg37,\tReference Name: 17\n",
      "\tVariant Start: 41246805,\tVariant End: 41246805\n",
      "\tReference Bases: G,\tAlternate Bases: [u'GT'],\t\n",
      "Variant Id: hg37-10799,\tVariant Set Id: brca-hg37,\tReference Name: 17\n",
      "\tVariant Start: 41246805,\tVariant End: 41246805\n",
      "\tReference Bases: G,\tAlternate Bases: [u'T'],\t\n"
     ]
    }
   ],
   "source": [
    "counter = 0\n",
    "for Vars in c.search_variants(reference_name=\"chr17\", variant_set_id=\"brca-hg37\", start=41246794, end=41296814):\n",
    "    print \"Variant Id: {},\\tVariant Set Id: {},\\tReference Name: {}\\n\\tVariant Start: {},\\tVariant End: {}\\n\\tReference Bases: {},\\tAlternate Bases: {},\\t\".format(\n",
    "        Vars.id, Vars.variant_set_id,Vars.reference_name,Vars.start, Vars.end,Vars.reference_bases,Vars.alternate_bases)\n",
    "    if counter >= 5:\n",
    "        break\n",
    "    counter += 1"
   ]
  },
  {
   "cell_type": "markdown",
   "metadata": {},
   "source": [
    "##### Note, observe that only a selected amount of parameters where chosen to be displayed under variants search method. But the metadata fields which are defined are also available in this request. Potential fields available are defined under \"Get variant set by id method\" example "
   ]
  },
  {
   "cell_type": "markdown",
   "metadata": {},
   "source": [
    "### Get variant by id\n",
    "Observe that in the above example we obtain id's for the variants available, which are contained within the requested genomic range. Also, other fields which are present are also displayed in the call.  "
   ]
  },
  {
   "cell_type": "code",
   "execution_count": 8,
   "metadata": {
    "collapsed": false
   },
   "outputs": [
    {
     "name": "stdout",
     "output_type": "stream",
     "text": [
      "Variant Id: hg37-398,\tVariant Set Id: brca-hg37,\tReference Name: 13\n",
      "\tVariant Start: 32899305,\tVariant End: 32899306\n",
      "\tReference Bases: TC,\tAlternate Bases: [u'T'],\t\n",
      "Hg37_End: \t32899306\n",
      "Date_Last_Updated_ClinVar: \t2013-02-01,2003-12-23\n",
      "Hg38_Start: \t32325168\n",
      "Variant_in_LOVD: \t0.0\n",
      "Source_URL: \thttp://www.ncbi.nlm.nih.gov/clinvar/?term=SCV000146782, http://www.ncbi.nlm.nih.gov/clinvar/?term=SCV000072365\n",
      "Source: \tBIC,ClinVar\n",
      "Chr: \t13\n",
      "Pathogenicity_expert: \tNot Yet Classified\n",
      "HGVS_Protein: \tNP_000050.2:p.(Ser137PhefsTer15)\n",
      "Ref: \tTC\n",
      "id: \t398\n",
      "Reference_Sequence: \tNM_000059.3\n",
      "Submitter_ClinVar: \tBreast_Cancer_Information_Core_(BIC)_(BRCA2),Invitae_\n",
      "Variant_in_ESP: \t0.0\n",
      "Hg36_End: \t31797306\n",
      "Variant_in_ExAC: \t0.0\n",
      "Clinical_classification_BIC: \tClass 5\n",
      "Variant_in_exLOVD: \t0.0\n",
      "Gene_Symbol: \tBRCA2\n",
      "Variant_in_ENIGMA: \t0.0\n",
      "Method_ClinVar: \tclinical_testing,literature_only\n",
      "Pathogenicity_all: \tPathogenic,not_provided (ClinVar); Class 5 (BIC)\n",
      "Germline_or_Somatic_BIC: \tG\n",
      "Genomic_Coordinate_hg37: \tchr13:g.32899305:TC>T\n",
      "Genomic_Coordinate_hg36: \tchr13:g.31797305:TC>T\n",
      "BIC_Nomenclature: \t638delC\n",
      "Data_Release_id: \t1\n",
      "Hg37_Start: \t32899305\n",
      "Hg36_Start: \t31797305\n",
      "Clinical_Significance_ClinVar: \tPathogenic,not_provided\n",
      "Genomic_Coordinate_hg38: \tchr13:g.32325168:TC>T\n",
      "Hg38_End: \t32325169\n",
      "HGVS_cDNA: \tNM_000059.3:c.410delC\n",
      "Change_Type_id: \t1\n",
      "Mutation_type_BIC: \tF\n",
      "SCV_ClinVar: \tSCV000146782,SCV000072365\n",
      "Ethnicity_BIC: \tNone Specified\n",
      "Pos: \t32325168\n",
      "Variant_in_1000_Genomes: \t0.0\n",
      "Synonyms: \t638delC,638delC,U43746.1:c.637delC\n",
      "Variant_in_ClinVar: \t0.0\n",
      "Clinical_importance_BIC: \tyes\n",
      "Discordant: \tConcordant\n",
      "Alt: \tT\n",
      "Allele_Origin_ClinVar: \tgermline\n",
      "Variant_in_BIC: \t0.0\n"
     ]
    }
   ],
   "source": [
    "SingleVar = c.get_variant(variant_id=\"hg37-398\")\n",
    "print \"Variant Id: {},\\tVariant Set Id: {},\\tReference Name: {}\\n\\tVariant Start: {},\\tVariant End: {}\\n\\tReference Bases: {},\\tAlternate Bases: {},\\t\".format(SingleVar.id, SingleVar.variant_set_id,SingleVar.reference_name,SingleVar.start, SingleVar.end,SingleVar.reference_bases,SingleVar.alternate_bases)\n",
    "for i in SingleVar.info:\n",
    "    print \"{}: \\t{}\".format(i, SingleVar.info[str(i)].values[0].string_value or SingleVar.info[str(i)].values[0].number_value)"
   ]
  }
 ],
 "metadata": {
  "kernelspec": {
   "display_name": "Python 2",
   "language": "python",
   "name": "python2"
  },
  "language_info": {
   "codemirror_mode": {
    "name": "ipython",
    "version": 2
   },
   "file_extension": ".py",
   "mimetype": "text/x-python",
   "name": "python",
   "nbconvert_exporter": "python",
   "pygments_lexer": "ipython2",
   "version": "2.7.11"
  },
  "widgets": {
   "state": {},
   "version": "1.1.1"
  }
 },
 "nbformat": 4,
 "nbformat_minor": 1
}
